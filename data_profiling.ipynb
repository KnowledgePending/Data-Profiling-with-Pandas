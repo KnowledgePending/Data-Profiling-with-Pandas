{
 "cells": [
  {
   "cell_type": "markdown",
   "metadata": {},
   "source": [
    "# Bryan Flood \n",
    "## Profiling the 1994 US Census with Pandas"
   ]
  },
  {
   "cell_type": "markdown",
   "metadata": {},
   "source": [
    "### Import Libraries"
   ]
  },
  {
   "cell_type": "code",
   "execution_count": 1,
   "metadata": {},
   "outputs": [],
   "source": [
    "import pandas as pd\n",
    "import numpy as np"
   ]
  },
  {
   "cell_type": "markdown",
   "metadata": {},
   "source": [
    "### Read in dataset and split into continuous and categorical"
   ]
  },
  {
   "cell_type": "code",
   "execution_count": 2,
   "metadata": {},
   "outputs": [],
   "source": [
    "feature_names_text_file = open(\"./data/feature_names.txt\", \"r\")\n",
    "feature_names = feature_names_text_file.read().split(\"\\n\")"
   ]
  },
  {
   "cell_type": "code",
   "execution_count": 3,
   "metadata": {},
   "outputs": [],
   "source": [
    "dataset = pd.read_csv(\"./data/dataset.csv\",\n",
    "                          sep=',',\n",
    "                          names=feature_names,\n",
    "                          na_values=[' ?', ' 0'])\n",
    "dataset = dataset.drop(columns=\"id\")"
   ]
  },
  {
   "cell_type": "code",
   "execution_count": 4,
   "metadata": {},
   "outputs": [],
   "source": [
    "continuous = dataset.select_dtypes(include=[np.number])\n",
    "categorical = dataset.select_dtypes(exclude=[np.number])"
   ]
  },
  {
   "cell_type": "markdown",
   "metadata": {},
   "source": [
    "## Continuous Features Quality Report"
   ]
  },
  {
   "cell_type": "code",
   "execution_count": 5,
   "metadata": {},
   "outputs": [
    {
     "data": {
      "text/html": "<div>\n<style scoped>\n    .dataframe tbody tr th:only-of-type {\n        vertical-align: middle;\n    }\n\n    .dataframe tbody tr th {\n        vertical-align: top;\n    }\n\n    .dataframe thead th {\n        text-align: right;\n    }\n</style>\n<table border=\"1\" class=\"dataframe\">\n  <thead>\n    <tr style=\"text-align: right;\">\n      <th></th>\n      <th>Count</th>\n      <th>% Miss.</th>\n      <th>Card.</th>\n      <th>Min.</th>\n      <th>1st Qrt.</th>\n      <th>Mean</th>\n      <th>Median</th>\n      <th>3rd Qrt.</th>\n      <th>Max.</th>\n      <th>Std Dev.</th>\n    </tr>\n  </thead>\n  <tbody>\n    <tr>\n      <th>age</th>\n      <td>30940</td>\n      <td>0.000000</td>\n      <td>72</td>\n      <td>17</td>\n      <td>28.0</td>\n      <td>38.560763</td>\n      <td>37.0</td>\n      <td>48.0</td>\n      <td>90</td>\n      <td>13.639403</td>\n    </tr>\n    <tr>\n      <th>fnlwgt</th>\n      <td>30940</td>\n      <td>0.000000</td>\n      <td>20880</td>\n      <td>12285</td>\n      <td>117849.0</td>\n      <td>189786.401422</td>\n      <td>178384.0</td>\n      <td>237318.0</td>\n      <td>1484705</td>\n      <td>105406.394386</td>\n    </tr>\n    <tr>\n      <th>education-num</th>\n      <td>30940</td>\n      <td>0.000000</td>\n      <td>16</td>\n      <td>1</td>\n      <td>9.0</td>\n      <td>10.081254</td>\n      <td>10.0</td>\n      <td>12.0</td>\n      <td>16</td>\n      <td>2.569967</td>\n    </tr>\n    <tr>\n      <th>capital-gain</th>\n      <td>30940</td>\n      <td>91.735617</td>\n      <td>118</td>\n      <td>114</td>\n      <td>3411.0</td>\n      <td>13090.064138</td>\n      <td>7298.0</td>\n      <td>14084.0</td>\n      <td>99999</td>\n      <td>22659.543638</td>\n    </tr>\n    <tr>\n      <th>capital-loss</th>\n      <td>30940</td>\n      <td>95.378151</td>\n      <td>90</td>\n      <td>155</td>\n      <td>1672.0</td>\n      <td>1873.059441</td>\n      <td>1887.0</td>\n      <td>1977.0</td>\n      <td>4356</td>\n      <td>381.049337</td>\n    </tr>\n    <tr>\n      <th>hours-per-week</th>\n      <td>30940</td>\n      <td>0.000000</td>\n      <td>93</td>\n      <td>1</td>\n      <td>40.0</td>\n      <td>40.408920</td>\n      <td>40.0</td>\n      <td>45.0</td>\n      <td>99</td>\n      <td>12.336945</td>\n    </tr>\n  </tbody>\n</table>\n</div>",
      "text/plain": "                Count    % Miss.  Card.   Min.  1st Qrt.           Mean  \\\nage             30940   0.000000     72     17      28.0      38.560763   \nfnlwgt          30940   0.000000  20880  12285  117849.0  189786.401422   \neducation-num   30940   0.000000     16      1       9.0      10.081254   \ncapital-gain    30940  91.735617    118    114    3411.0   13090.064138   \ncapital-loss    30940  95.378151     90    155    1672.0    1873.059441   \nhours-per-week  30940   0.000000     93      1      40.0      40.408920   \n\n                  Median  3rd Qrt.     Max.       Std Dev.  \nage                 37.0      48.0       90      13.639403  \nfnlwgt          178384.0  237318.0  1484705  105406.394386  \neducation-num       10.0      12.0       16       2.569967  \ncapital-gain      7298.0   14084.0    99999   22659.543638  \ncapital-loss      1887.0    1977.0     4356     381.049337  \nhours-per-week      40.0      45.0       99      12.336945  "
     },
     "execution_count": 5,
     "metadata": {},
     "output_type": "execute_result"
    }
   ],
   "source": [
    "continuous_count           = pd.DataFrame(continuous.count(),\n",
    "                                   columns=['Count'])\n",
    "continuous_missing_count   = pd.DataFrame(continuous.isna().sum(),\n",
    "                                   columns=['Count'])\n",
    "\n",
    "continuous_sum = continuous_count.add(continuous_missing_count, fill_value=0)\n",
    "\n",
    "continuous_percent_miss    = pd.DataFrame(columns=['percent miss'])\n",
    "for cell in list(continuous.columns.values):\n",
    "    continuous_percent_miss.loc[cell] = continuous_missing_count.loc[cell].values / continuous_sum.loc[cell].values * 100\n",
    "\n",
    "continuous_cardinality     = pd.DataFrame(columns=['cardinality'])\n",
    "for cell in list(continuous.columns.values):\n",
    "    continuous_cardinality.loc[cell] = [continuous[cell].nunique()]\n",
    "\n",
    "continuous_minimum         = pd.DataFrame(columns=['minimum-value'])\n",
    "for cell in list(continuous.columns.values):\n",
    "    continuous_minimum.loc[cell] = [continuous[cell].min()]\n",
    "\n",
    "continuous_first_quartile  = continuous.quantile([.25]).transpose()\n",
    "\n",
    "\n",
    "continuous_mean            = continuous.mean().transpose()\n",
    "continuous_median          = continuous.median().transpose()\n",
    "continuous_third_quartile  = continuous.quantile([.75]).transpose()\n",
    "\n",
    "continuous_maximum = pd.DataFrame(columns=['Maximum Value'])\n",
    "for cell in list(continuous.columns.values):\n",
    "    continuous_maximum.loc[cell] = [continuous[cell].max()]\n",
    "\n",
    "continuous_std = continuous.std().transpose()\n",
    "\n",
    "continuous_data_quality_report = pd.DataFrame()\n",
    "continuous_data_quality_report['Count']           = continuous_sum['Count']\n",
    "continuous_data_quality_report['% Miss.']         = continuous_percent_miss['percent miss']\n",
    "continuous_data_quality_report['Card.']           = continuous_cardinality['cardinality']\n",
    "continuous_data_quality_report['Min.']            = continuous_minimum['minimum-value']\n",
    "continuous_data_quality_report['1st Qrt.']        = continuous_first_quartile[0.25]\n",
    "continuous_data_quality_report['Mean']            = continuous_mean\n",
    "continuous_data_quality_report['Median']          = continuous_median\n",
    "continuous_data_quality_report['3rd Qrt.']        = continuous_third_quartile[0.75]\n",
    "continuous_data_quality_report['Max.']            = continuous_maximum['Maximum Value']\n",
    "continuous_data_quality_report['Std Dev.']        = continuous_std\n",
    "\n",
    "continuous_data_quality_report"
   ]
  },
  {
   "cell_type": "markdown",
   "metadata": {},
   "source": [
    "## Categorical Features Quality Report"
   ]
  },
  {
   "cell_type": "code",
   "execution_count": 6,
   "metadata": {},
   "outputs": [
    {
     "data": {
      "text/html": "<div>\n<style scoped>\n    .dataframe tbody tr th:only-of-type {\n        vertical-align: middle;\n    }\n\n    .dataframe tbody tr th {\n        vertical-align: top;\n    }\n\n    .dataframe thead th {\n        text-align: right;\n    }\n</style>\n<table border=\"1\" class=\"dataframe\">\n  <thead>\n    <tr style=\"text-align: right;\">\n      <th></th>\n      <th>Count</th>\n      <th>% Miss</th>\n      <th>Card.</th>\n      <th>Mode</th>\n      <th>Mode Freq</th>\n      <th>Mode %</th>\n      <th>2nd Mode</th>\n      <th>2nd Mode Freq</th>\n      <th>2nd Mode %</th>\n    </tr>\n  </thead>\n  <tbody>\n    <tr>\n      <th>workclass</th>\n      <td>30940</td>\n      <td>5.940764</td>\n      <td>8</td>\n      <td>Private</td>\n      <td>21576</td>\n      <td>73.877761</td>\n      <td>Self-emp-not-inc</td>\n      <td>2406</td>\n      <td>8.238315</td>\n    </tr>\n    <tr>\n      <th>education</th>\n      <td>30940</td>\n      <td>0.000000</td>\n      <td>16</td>\n      <td>HS-grad</td>\n      <td>9976</td>\n      <td>32.243051</td>\n      <td>Some-college</td>\n      <td>6938</td>\n      <td>22.424047</td>\n    </tr>\n    <tr>\n      <th>marital-status</th>\n      <td>30940</td>\n      <td>0.000000</td>\n      <td>7</td>\n      <td>Married-civ-spouse</td>\n      <td>14201</td>\n      <td>45.898513</td>\n      <td>Never-married</td>\n      <td>10167</td>\n      <td>32.860375</td>\n    </tr>\n    <tr>\n      <th>occupation</th>\n      <td>30940</td>\n      <td>5.966162</td>\n      <td>14</td>\n      <td>Prof-specialty</td>\n      <td>3932</td>\n      <td>13.466676</td>\n      <td>Craft-repair</td>\n      <td>3887</td>\n      <td>13.312556</td>\n    </tr>\n    <tr>\n      <th>relationship</th>\n      <td>30940</td>\n      <td>0.000000</td>\n      <td>6</td>\n      <td>Husband</td>\n      <td>12496</td>\n      <td>40.387847</td>\n      <td>Not-in-family</td>\n      <td>7904</td>\n      <td>25.546218</td>\n    </tr>\n    <tr>\n      <th>race</th>\n      <td>30940</td>\n      <td>0.000000</td>\n      <td>5</td>\n      <td>White</td>\n      <td>26442</td>\n      <td>85.462185</td>\n      <td>Black</td>\n      <td>2965</td>\n      <td>9.583064</td>\n    </tr>\n    <tr>\n      <th>sex</th>\n      <td>30940</td>\n      <td>0.000000</td>\n      <td>2</td>\n      <td>Male</td>\n      <td>20705</td>\n      <td>66.919845</td>\n      <td>Female</td>\n      <td>10235</td>\n      <td>33.080155</td>\n    </tr>\n    <tr>\n      <th>native-country</th>\n      <td>30940</td>\n      <td>1.823208</td>\n      <td>41</td>\n      <td>United-States</td>\n      <td>27719</td>\n      <td>91.222932</td>\n      <td>Mexico</td>\n      <td>607</td>\n      <td>1.997630</td>\n    </tr>\n    <tr>\n      <th>target</th>\n      <td>30940</td>\n      <td>0.000000</td>\n      <td>2</td>\n      <td>&lt;=50K</td>\n      <td>23506</td>\n      <td>75.972851</td>\n      <td>&gt;50K</td>\n      <td>7434</td>\n      <td>24.027149</td>\n    </tr>\n  </tbody>\n</table>\n</div>",
      "text/plain": "                Count    % Miss Card.                 Mode Mode Freq  \\\nworkclass       30940  5.940764     8              Private     21576   \neducation       30940  0.000000    16              HS-grad      9976   \nmarital-status  30940  0.000000     7   Married-civ-spouse     14201   \noccupation      30940  5.966162    14       Prof-specialty      3932   \nrelationship    30940  0.000000     6              Husband     12496   \nrace            30940  0.000000     5                White     26442   \nsex             30940  0.000000     2                 Male     20705   \nnative-country  30940  1.823208    41        United-States     27719   \ntarget          30940  0.000000     2                <=50K     23506   \n\n                   Mode %           2nd Mode 2nd Mode Freq  2nd Mode %  \nworkclass       73.877761   Self-emp-not-inc          2406    8.238315  \neducation       32.243051       Some-college          6938   22.424047  \nmarital-status  45.898513      Never-married         10167   32.860375  \noccupation      13.466676       Craft-repair          3887   13.312556  \nrelationship    40.387847      Not-in-family          7904   25.546218  \nrace            85.462185              Black          2965    9.583064  \nsex             66.919845             Female         10235   33.080155  \nnative-country  91.222932             Mexico           607    1.997630  \ntarget          75.972851               >50K          7434   24.027149  "
     },
     "execution_count": 6,
     "metadata": {},
     "output_type": "execute_result"
    }
   ],
   "source": [
    "categorical_count = pd.DataFrame(categorical.count(),\n",
    "                                   columns=['Count'])\n",
    "\n",
    "categorical_missing_count = pd.DataFrame(categorical.isna().sum(),\n",
    "                                   columns=['Count'])\n",
    "categorical_sum = categorical_count.add(categorical_missing_count, fill_value=0)\n",
    "\n",
    "categorical_percent_miss    = pd.DataFrame(columns=['percent miss'])\n",
    "for cell in list(categorical.columns.values):\n",
    "    categorical_percent_miss.loc[cell] = categorical_missing_count.loc[cell].values / categorical_count.loc[cell].values * 100\n",
    "\n",
    "\n",
    "categorical_cardinality     = pd.DataFrame(columns=['cardinality'])\n",
    "for cell in list(categorical.columns.values):\n",
    "    categorical_cardinality.loc[cell] = [categorical[cell].nunique()]\n",
    "    \n",
    "categorical_mode            = categorical.mode().transpose()\n",
    "\n",
    "\n",
    "categorical_mode_freq = pd.DataFrame(columns=['Mode Freq'])\n",
    "for cell in list(categorical.columns.values):\n",
    "    categorical_mode_freq.loc[cell] = categorical[cell].value_counts()[0]\n",
    "    \n",
    "categorical_mode_percent = pd.DataFrame(columns=['1st Mode percent'])\n",
    "for cell in list(categorical.columns.values):\n",
    "    categorical_mode_percent.loc[cell] = (categorical[cell].value_counts()[0]/categorical_count.loc[cell].values) * 100\n",
    "\n",
    "\n",
    "categorical_second_mode = pd.DataFrame(columns=['2nd Mode'])\n",
    "for cell in list(categorical.columns.values):\n",
    "    categorical_second_mode.loc[cell] = categorical[cell].value_counts().index[1]\n",
    "\n",
    "\n",
    "categorical_second_mode_freq = pd.DataFrame(columns=['2nd Mode freq'])\n",
    "for cell in list(categorical.columns.values):\n",
    "    categorical_second_mode_freq.loc[cell] = categorical[cell].value_counts()[1]\n",
    "\n",
    "categorical_second_mode_percent = pd.DataFrame(columns=['2nd Mode percent'])\n",
    "for cell in list(categorical.columns.values):\n",
    "    categorical_second_mode_percent.loc[cell] = (categorical[cell].value_counts()[1]/categorical_count.loc[cell].values) * 100\n",
    "\n",
    "\n",
    "\n",
    "categorical_data_quality_report = pd.DataFrame()\n",
    "categorical_data_quality_report['Count']          = categorical_sum['Count']\n",
    "categorical_data_quality_report['% Miss']         = categorical_percent_miss\n",
    "categorical_data_quality_report['Card.']          = categorical_cardinality['cardinality']\n",
    "categorical_data_quality_report['Mode']           = categorical_mode\n",
    "categorical_data_quality_report['Mode Freq']      = categorical_mode_freq\n",
    "categorical_data_quality_report['Mode %']         = categorical_mode_percent\n",
    "categorical_data_quality_report['2nd Mode']       = categorical_second_mode\n",
    "categorical_data_quality_report['2nd Mode Freq']  = categorical_second_mode_freq\n",
    "categorical_data_quality_report['2nd Mode %']     = categorical_second_mode_percent\n",
    "\n",
    "categorical_data_quality_report"
   ]
  },
  {
   "cell_type": "markdown",
   "metadata": {},
   "source": [
    "## Output Quality reports as csv"
   ]
  },
  {
   "cell_type": "code",
   "execution_count": 7,
   "metadata": {},
   "outputs": [],
   "source": [
    "continuous_data_quality_report.to_csv(\"CONT.csv\")\n",
    "categorical_data_quality_report.to_csv(\"CAT.csv\")"
   ]
  }
 ],
 "metadata": {
  "kernelspec": {
   "display_name": "Python 3",
   "language": "python",
   "name": "python3"
  },
  "language_info": {
   "codemirror_mode": {
    "name": "ipython",
    "version": 3
   },
   "file_extension": ".py",
   "mimetype": "text/x-python",
   "name": "python",
   "nbconvert_exporter": "python",
   "pygments_lexer": "ipython3",
   "version": "3.7.3"
  }
 },
 "nbformat": 4,
 "nbformat_minor": 2
}